{
 "cells": [
  {
   "cell_type": "code",
   "execution_count": 1,
   "id": "6dfdb09f",
   "metadata": {},
   "outputs": [
    {
     "ename": "ModuleNotFoundError",
     "evalue": "No module named 'backtrader'",
     "output_type": "error",
     "traceback": [
      "\u001b[0;31m---------------------------------------------------------------------------\u001b[0m",
      "\u001b[0;31mModuleNotFoundError\u001b[0m                       Traceback (most recent call last)",
      "Input \u001b[0;32mIn [1]\u001b[0m, in \u001b[0;36m<cell line: 1>\u001b[0;34m()\u001b[0m\n\u001b[0;32m----> 1\u001b[0m \u001b[38;5;28;01mimport\u001b[39;00m \u001b[38;5;21;01mbacktrader\u001b[39;00m \u001b[38;5;28;01mas\u001b[39;00m \u001b[38;5;21;01mbt\u001b[39;00m\n\u001b[1;32m      3\u001b[0m \u001b[38;5;28;01mclass\u001b[39;00m \u001b[38;5;21;01mMyStrategy\u001b[39;00m(bt\u001b[38;5;241m.\u001b[39mStrategy):\n\u001b[1;32m      5\u001b[0m     \u001b[38;5;28;01mdef\u001b[39;00m \u001b[38;5;21m__init__\u001b[39m(\u001b[38;5;28mself\u001b[39m):\n",
      "\u001b[0;31mModuleNotFoundError\u001b[0m: No module named 'backtrader'"
     ]
    }
   ],
   "source": [
    "\n",
    "import backtrader as bt\n",
    "\n",
    "class MyStrategy(bt.Strategy):\n",
    "\n",
    "    def __init__(self):\n",
    "        print(\"initializing strategy\")\n",
    "        self.data_ready = False\n",
    "        \n",
    "    def notify_data(self, data, status):\n",
    "        print('Data Status =>', data._getstatusname(status))\n",
    "        if status == data.LIVE:\n",
    "            self.data_ready = True\n",
    "\n",
    "    def log_data(self):\n",
    "        ohlcv = []\n",
    "        ohlcv.append(str(self.data.datetime.datetime()))\n",
    "        ohlcv.append(str(self.data.open[0]))\n",
    "        ohlcv.append(str(self.data.high[0]))\n",
    "        ohlcv.append(str(self.data.low[0]))\n",
    "        ohlcv.append(str(self.data.close[0]))\n",
    "        ohlcv.append(str(self.data.volume[0]))\n",
    "        print(\",\".join(ohlcv))\n",
    "    \n",
    "    def next(self):\n",
    "        self.log_data()\n",
    "\n",
    "        if not self.data_ready:\n",
    "            return\n",
    "\n",
    "        # if not self.position:\n",
    "        #     self.buy(size=2)\n",
    "        # elif self.position:\n",
    "        #     self.sell()\n",
    "        \n",
    "\n",
    "\n",
    "\n",
    "def start():\n",
    "    print(\"starting backtrader\")\n",
    "    cerebro = bt.Cerebro()\n",
    "\n",
    "    store = bt.stores.IBStore(port=7497)\n",
    "    data = store.getdata(dataname='USD.JPY', sectype='CASH', exchange='IDEALPRO', timeframe=bt.TimeFrame.Seconds)\n",
    "    cerebro.resampledata(data, timeframe=bt.TimeFrame.Seconds, compression=15)\n",
    "    \n",
    "    cerebro.broker = store.getbroker()\n",
    "    cerebro.addstrategy(MyStrategy)\n",
    "    cerebro.run()\n",
    "\n",
    "start()"
   ]
  },
  {
   "cell_type": "code",
   "execution_count": null,
   "id": "a94e628a",
   "metadata": {},
   "outputs": [],
   "source": []
  }
 ],
 "metadata": {
  "kernelspec": {
   "display_name": "Python 3 (ipykernel)",
   "language": "python",
   "name": "python3"
  },
  "language_info": {
   "codemirror_mode": {
    "name": "ipython",
    "version": 3
   },
   "file_extension": ".py",
   "mimetype": "text/x-python",
   "name": "python",
   "nbconvert_exporter": "python",
   "pygments_lexer": "ipython3",
   "version": "3.10.5"
  }
 },
 "nbformat": 4,
 "nbformat_minor": 5
}
