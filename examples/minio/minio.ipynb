{
 "cells": [
  {
   "cell_type": "code",
   "execution_count": 1,
   "id": "ba053c31-6134-4bb6-a9e7-bc48e7a64f78",
   "metadata": {},
   "outputs": [],
   "source": [
    "import os\n",
    "from minio import Minio\n",
    "from minio.error import S3Error"
   ]
  },
  {
   "cell_type": "code",
   "execution_count": 2,
   "id": "11f63aee-ca5e-4656-83f8-e4f22f1f1402",
   "metadata": {},
   "outputs": [
    {
     "name": "stdout",
     "output_type": "stream",
     "text": [
      "<minio.api.Minio object at 0x7fec301142e0>\n"
     ]
    }
   ],
   "source": [
    "# Create a client with the MinIO server playground, its access key\n",
    "# and secret key.\n",
    "client = Minio(\n",
    "    \"minio.minio.svc.cluster.local:9000\",\n",
    "    access_key=os.getenv(\"MINIO_ACCESS_KEY\"),\n",
    "    secret_key=os.getenv(\"MINIO_SECRET_KEY\"),\n",
    "    secure=False,\n",
    ")\n",
    "print(client)"
   ]
  },
  {
   "cell_type": "code",
   "execution_count": 3,
   "id": "c7cbe953-d912-4d40-8103-e8d3d7828bcd",
   "metadata": {},
   "outputs": [],
   "source": [
    "buckets = client.list_buckets()"
   ]
  },
  {
   "cell_type": "code",
   "execution_count": 4,
   "id": "3c914461-686e-4ab4-8402-3c2e7382a47f",
   "metadata": {},
   "outputs": [
    {
     "name": "stdout",
     "output_type": "stream",
     "text": [
      "data 2022-08-14 20:24:08.535000+00:00\n"
     ]
    }
   ],
   "source": [
    "for bucket in buckets:\n",
    "    print(bucket.name, bucket.creation_date)"
   ]
  },
  {
   "cell_type": "code",
   "execution_count": 5,
   "id": "d941a5f9-2d3b-43ab-90a4-e4d2e01a6e90",
   "metadata": {},
   "outputs": [],
   "source": [
    "f = open(\"demofile2.txt\", \"a\")\n",
    "f.write(\"Now the file has more content!\")\n",
    "f.close()"
   ]
  },
  {
   "cell_type": "code",
   "execution_count": 6,
   "id": "478cf439-c785-4ac1-91cc-c46b9b7f2145",
   "metadata": {},
   "outputs": [
    {
     "name": "stdout",
     "output_type": "stream",
     "text": [
      "Now the file has more content!Now the file has more content!Now the file has more content!Now the file has more content!\n"
     ]
    }
   ],
   "source": [
    "f = open(\"demofile2.txt\", \"r\")\n",
    "print(f.read())"
   ]
  },
  {
   "cell_type": "code",
   "execution_count": 7,
   "id": "68f29f57-0ca0-416d-b907-97e68eeac5a9",
   "metadata": {},
   "outputs": [
    {
     "name": "stdout",
     "output_type": "stream",
     "text": [
      "Bucket already exists\n"
     ]
    }
   ],
   "source": [
    "found = client.bucket_exists(\"data\")\n",
    "if not found:\n",
    "   client.make_bucket(\"data\")\n",
    "else:\n",
    "   print(\"Bucket already exists\")"
   ]
  },
  {
   "cell_type": "code",
   "execution_count": 8,
   "id": "2da0e506-2f2d-4292-aeed-14879a5f8c70",
   "metadata": {},
   "outputs": [
    {
     "data": {
      "text/plain": [
       "<minio.helpers.ObjectWriteResult at 0x7fec302df400>"
      ]
     },
     "execution_count": 8,
     "metadata": {},
     "output_type": "execute_result"
    }
   ],
   "source": [
    "client.fput_object(\"data\", \"demofile2.txt\", \"demofile2.txt\",)"
   ]
  },
  {
   "cell_type": "code",
   "execution_count": null,
   "id": "1be56ed5-194d-49de-9200-8f544acc548b",
   "metadata": {},
   "outputs": [],
   "source": []
  }
 ],
 "metadata": {
  "kernelspec": {
   "display_name": "Python 3 (ipykernel)",
   "language": "python",
   "name": "python3"
  },
  "language_info": {
   "codemirror_mode": {
    "name": "ipython",
    "version": 3
   },
   "file_extension": ".py",
   "mimetype": "text/x-python",
   "name": "python",
   "nbconvert_exporter": "python",
   "pygments_lexer": "ipython3",
   "version": "3.10.5"
  }
 },
 "nbformat": 4,
 "nbformat_minor": 5
}
