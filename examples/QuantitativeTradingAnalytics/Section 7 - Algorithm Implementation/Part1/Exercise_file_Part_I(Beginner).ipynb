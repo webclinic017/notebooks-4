{
 "cells": [
  {
   "cell_type": "markdown",
   "metadata": {},
   "source": [
    "# Quantitative Trading Analytics"
   ]
  },
  {
   "cell_type": "markdown",
   "metadata": {},
   "source": [
    "Technology has become an asset in finance: financial institutions are now evolving to technology companies rather than only staying occupied with just the financial aspect: besides the fact that technology brings about innovation the speeds and can help to gain a competitive advantage, the rate and frequency of financial transactions, together with the large data volumes, makes that financial institutions’ attention for technology has increased over the years and that technology has indeed become the main enabler in finance."
   ]
  },
  {
   "cell_type": "markdown",
   "metadata": {},
   "source": [
    "<img src=\"JupyterNotebook - Question.png\">"
   ]
  },
  {
   "cell_type": "markdown",
   "metadata": {},
   "source": [
    "<div class=\"alert alert-block alert-info\" style=\"margin-top: 20px\">\n",
    "    <p>\n",
    "        Estimated time needed: <strong>90 min</strong>\n",
    "    </p>\n",
    "</div>\n",
    "\n",
    "<hr>"
   ]
  },
  {
   "cell_type": "markdown",
   "metadata": {},
   "source": [
    "May the pips be with you !"
   ]
  },
  {
   "cell_type": "markdown",
   "metadata": {},
   "source": [
    "# Import Raw Packages"
   ]
  },
  {
   "cell_type": "code",
   "execution_count": 1,
   "metadata": {},
   "outputs": [],
   "source": [
    "#Import Pandas, Numpy and PlotLy for Data visualization.\n",
    "import numpy as np\n",
    "import pandas as pd\n",
    "import plotly.graph_objs as go"
   ]
  },
  {
   "cell_type": "markdown",
   "metadata": {},
   "source": [
    "# I. Import Data"
   ]
  },
  {
   "cell_type": "markdown",
   "metadata": {},
   "source": [
    "<p><span style='font-family: \"Trebuchet MS\", Helvetica, sans-serif; font-size: 17px;'>In this first part, the target will be to <strong>import data</strong> of the <strong>following shares</strong> :</span></p>\n",
    "<table style=\"width: 48%; margin-right: calc(52%);\">\n",
    "    <tbody>\n",
    "        <tr>\n",
    "            <td style=\"width: 49.026%; background-color: rgb(255, 255, 255);\">\n",
    "                <div style=\"text-align: left;\"><strong><span style='font-family: \"Trebuchet MS\", Helvetica, sans-serif; font-size: 19px;'>Share name</span></strong></div>\n",
    "            </td>\n",
    "            <td style=\"width: 50.6493%; text-align: center; background-color: rgb(255, 255, 255);\">\n",
    "                <div style=\"text-align: left;\"><span style=\"font-size: 19px;\"><span style=\"font-family: 'Trebuchet MS', Helvetica, sans-serif;\"><strong>Ticker</strong></span></span></div>\n",
    "            </td>\n",
    "        </tr>\n",
    "        <tr>\n",
    "            <td style=\"width: 49.026%; background-color: rgb(255, 255, 255);\">\n",
    "                <div style=\"text-align: left;\"><span style=\"font-size: 19px;\"><span style=\"font-family: 'Trebuchet MS', Helvetica, sans-serif;\">Twitter</span></span></div>\n",
    "            </td>\n",
    "            <td style=\"width: 50.6493%; text-align: center; background-color: rgb(255, 255, 255);\">\n",
    "                <div style=\"text-align: left;\"><span style=\"font-size: 19px;\"><span style=\"font-family: 'Trebuchet MS', Helvetica, sans-serif;\">\n",
    "                            <meta charset=\"utf-8\"><span style=\"color: rgba(0, 0, 0, 0.62); font-style: normal; font-variant-ligatures: normal; font-variant-caps: normal; font-weight: 400; letter-spacing: normal; orphans: 2; text-align: left; text-indent: 0px; text-transform: none; white-space: nowrap; widows: 2; word-spacing: 0px; -webkit-text-stroke-width: 0px; background-color: rgb(255, 255, 255); text-decoration-style: initial; text-decoration-color: initial; float: none; display: inline !important;\">TWTR</span><br></span></span></div>\n",
    "            </td>\n",
    "        </tr>\n",
    "        <tr>\n",
    "            <td style=\"width: 49.026%; background-color: rgb(255, 255, 255);\">\n",
    "                <div style=\"text-align: left;\"><span style=\"font-size: 19px;\"><span style=\"font-family: 'Trebuchet MS', Helvetica, sans-serif;\">Netflix</span></span></div>\n",
    "            </td>\n",
    "            <td style=\"width: 50.6493%; text-align: center; background-color: rgb(255, 255, 255);\">\n",
    "                <div style=\"text-align: left;\"><span style=\"font-size: 19px;\"><span style=\"font-family: 'Trebuchet MS', Helvetica, sans-serif;\">\n",
    "                            <meta charset=\"utf-8\"><span style=\"color: rgba(0, 0, 0, 0.62); font-family: arial, sans-serif; font-style: normal; font-variant-ligatures: normal; font-variant-caps: normal; font-weight: 400; letter-spacing: normal; orphans: 2; text-align: left; text-indent: 0px; text-transform: none; white-space: nowrap; widows: 2; word-spacing: 0px; -webkit-text-stroke-width: 0px; background-color: rgb(255, 255, 255); text-decoration-style: initial; text-decoration-color: initial; float: none; display: inline !important;\">NFLX</span><br></span></span></div>\n",
    "            </td>\n",
    "        </tr>\n",
    "        <tr>\n",
    "            <td style=\"width: 49.026%; background-color: rgb(255, 255, 255);\">\n",
    "                <div style=\"text-align: left;\"><span style=\"font-size: 19px;\"><span style=\"font-family: 'Trebuchet MS', Helvetica, sans-serif;\">Snapchat</span></span></div>\n",
    "            </td>\n",
    "            <td style=\"width: 50.6493%; text-align: center; background-color: rgb(255, 255, 255);\">\n",
    "                <div style=\"text-align: left;\"><span style=\"font-size: 19px;\">\n",
    "                        <meta charset=\"utf-8\"><span style=\"color: rgba(0, 0, 0, 0.62); font-family: arial, sans-serif; font-style: normal; font-variant-ligatures: normal; font-variant-caps: normal; font-weight: 400; letter-spacing: normal; orphans: 2; text-align: left; text-indent: 0px; text-transform: none; white-space: nowrap; widows: 2; word-spacing: 0px; -webkit-text-stroke-width: 0px; background-color: rgb(255, 255, 255); text-decoration-style: initial; text-decoration-color: initial; float: none; display: inline !important;\">SNAP</span></span></div>\n",
    "            </td>\n",
    "        </tr>\n",
    "        <tr>\n",
    "            <td style=\"width: 49.026%; background-color: rgb(255, 255, 255);\">\n",
    "                <div style=\"text-align: left;\"><span style=\"font-size: 19px;\"><span style=\"font-family: 'Trebuchet MS', Helvetica, sans-serif;\">Uber</span></span></div>\n",
    "            </td>\n",
    "            <td style=\"width: 50.6493%; text-align: center; background-color: rgb(255, 255, 255);\">\n",
    "                <div style=\"text-align: left;\"><span style=\"font-size: 19px;\">\n",
    "                        <meta charset=\"utf-8\"><span style=\"color: rgba(0, 0, 0, 0.62); font-family: arial, sans-serif; font-style: normal; font-variant-ligatures: normal; font-variant-caps: normal; font-weight: 400; letter-spacing: normal; orphans: 2; text-align: left; text-indent: 0px; text-transform: none; white-space: nowrap; widows: 2; word-spacing: 0px; -webkit-text-stroke-width: 0px; background-color: rgb(255, 255, 255); text-decoration-style: initial; text-decoration-color: initial; float: none; display: inline !important;\">UBER</span></span></div>\n",
    "            </td>\n",
    "        </tr>\n",
    "    </tbody>\n",
    "</table>\n",
    "<p>\n",
    "    <meta charset=\"utf-8\"><span style='color: rgb(0, 0, 0); font-family: \"Trebuchet MS\", Helvetica, sans-serif; font-size: medium; font-style: normal; font-variant-ligatures: normal; font-variant-caps: normal; font-weight: 400; letter-spacing: normal; orphans: 2; text-align: start; text-indent: 0px; text-transform: none; white-space: normal; widows: 2; word-spacing: 0px; -webkit-text-stroke-width: 0px; text-decoration-style: initial; text-decoration-color: initial; display: inline !important; float: none;'>Two challenges will be given to you.&nbsp;</span></p>\n",
    "<p><span style='color: rgb(0, 0, 0); font-family: \"Trebuchet MS\", Helvetica, sans-serif; font-size: medium; font-style: normal; font-variant-ligatures: normal; font-variant-caps: normal; font-weight: 400; letter-spacing: normal; orphans: 2; text-align: start; text-indent: 0px; text-transform: none; white-space: normal; widows: 2; word-spacing: 0px; -webkit-text-stroke-width: 0px; text-decoration-style: initial; text-decoration-color: initial; display: inline !important; float: none;'>The first one one will be the advanced path flag with an &quot;A. &quot; and the second one will be the beginner one flagged by &quot;B. &quot;.</span></p>\n",
    "<p><span style='color: rgb(0, 0, 0); font-family: \"Trebuchet MS\", Helvetica, sans-serif; font-size: medium; font-style: normal; font-variant-ligatures: normal; font-variant-caps: normal; font-weight: 400; letter-spacing: normal; orphans: 2; text-align: start; text-indent: 0px; text-transform: none; white-space: normal; widows: 2; word-spacing: 0px; -webkit-text-stroke-width: 0px; text-decoration-style: initial; text-decoration-color: initial; display: inline !important; float: none;'>I wish you to enjoy this challenge !&nbsp;</span></p>"
   ]
  },
  {
   "cell_type": "markdown",
   "metadata": {},
   "source": [
    "### API and DateTime package"
   ]
  },
  {
   "cell_type": "code",
   "execution_count": 2,
   "metadata": {},
   "outputs": [],
   "source": [
    "#Import the right API library in order to import data from Yahoo finance. \n",
    "#Furthermore don't forget datetime package to get the dates in the right format !!\n",
    "\n",
    "#PDR package\n",
    "from pandas_datareader import data, wb\n",
    "\n",
    "#Datetime package\n",
    "from datetime import date"
   ]
  },
  {
   "cell_type": "code",
   "execution_count": 3,
   "metadata": {},
   "outputs": [],
   "source": [
    "#Define start and end date\n",
    "start = pd.to_datetime('2018-01-01')\n",
    "end = pd.to_datetime('2020-06-01')"
   ]
  },
  {
   "cell_type": "markdown",
   "metadata": {},
   "source": [
    "### B. Import Data (Beginner level task)"
   ]
  },
  {
   "cell_type": "code",
   "execution_count": 7,
   "metadata": {},
   "outputs": [],
   "source": [
    "#Import data from Yahoo Finance through Pandas Data Reader\n",
    "TWTR_data = data.DataReader('TWTR', 'yahoo', start, end)\n",
    "NFLX_data = data.DataReader('NFLX', 'yahoo', start, end)\n",
    "SNAP_data = data.DataReader('SNAP', 'yahoo', start, end)\n",
    "UBER_data = data.DataReader('UBER', 'yahoo', start, end)"
   ]
  },
  {
   "cell_type": "code",
   "execution_count": 8,
   "metadata": {},
   "outputs": [
    {
     "data": {
      "text/html": [
       "<div>\n",
       "<style scoped>\n",
       "    .dataframe tbody tr th:only-of-type {\n",
       "        vertical-align: middle;\n",
       "    }\n",
       "\n",
       "    .dataframe tbody tr th {\n",
       "        vertical-align: top;\n",
       "    }\n",
       "\n",
       "    .dataframe thead th {\n",
       "        text-align: right;\n",
       "    }\n",
       "</style>\n",
       "<table border=\"1\" class=\"dataframe\">\n",
       "  <thead>\n",
       "    <tr style=\"text-align: right;\">\n",
       "      <th></th>\n",
       "      <th>High</th>\n",
       "      <th>Low</th>\n",
       "      <th>Open</th>\n",
       "      <th>Close</th>\n",
       "      <th>Volume</th>\n",
       "      <th>Adj Close</th>\n",
       "    </tr>\n",
       "    <tr>\n",
       "      <th>Date</th>\n",
       "      <th></th>\n",
       "      <th></th>\n",
       "      <th></th>\n",
       "      <th></th>\n",
       "      <th></th>\n",
       "      <th></th>\n",
       "    </tr>\n",
       "  </thead>\n",
       "  <tbody>\n",
       "    <tr>\n",
       "      <td>2018-01-02</td>\n",
       "      <td>24.570000</td>\n",
       "      <td>23.850000</td>\n",
       "      <td>24.070000</td>\n",
       "      <td>24.510000</td>\n",
       "      <td>15297200</td>\n",
       "      <td>24.510000</td>\n",
       "    </tr>\n",
       "    <tr>\n",
       "      <td>2018-01-03</td>\n",
       "      <td>24.680000</td>\n",
       "      <td>24.070000</td>\n",
       "      <td>24.559999</td>\n",
       "      <td>24.450001</td>\n",
       "      <td>12832600</td>\n",
       "      <td>24.450001</td>\n",
       "    </tr>\n",
       "    <tr>\n",
       "      <td>2018-01-04</td>\n",
       "      <td>24.590000</td>\n",
       "      <td>23.690001</td>\n",
       "      <td>24.500000</td>\n",
       "      <td>23.990000</td>\n",
       "      <td>17653500</td>\n",
       "      <td>23.990000</td>\n",
       "    </tr>\n",
       "    <tr>\n",
       "      <td>2018-01-05</td>\n",
       "      <td>24.570000</td>\n",
       "      <td>23.879999</td>\n",
       "      <td>24.070000</td>\n",
       "      <td>24.320000</td>\n",
       "      <td>14953200</td>\n",
       "      <td>24.320000</td>\n",
       "    </tr>\n",
       "    <tr>\n",
       "      <td>2018-01-08</td>\n",
       "      <td>24.780001</td>\n",
       "      <td>23.879999</td>\n",
       "      <td>24.370001</td>\n",
       "      <td>24.590000</td>\n",
       "      <td>17831300</td>\n",
       "      <td>24.590000</td>\n",
       "    </tr>\n",
       "  </tbody>\n",
       "</table>\n",
       "</div>"
      ],
      "text/plain": [
       "                 High        Low       Open      Close    Volume  Adj Close\n",
       "Date                                                                       \n",
       "2018-01-02  24.570000  23.850000  24.070000  24.510000  15297200  24.510000\n",
       "2018-01-03  24.680000  24.070000  24.559999  24.450001  12832600  24.450001\n",
       "2018-01-04  24.590000  23.690001  24.500000  23.990000  17653500  23.990000\n",
       "2018-01-05  24.570000  23.879999  24.070000  24.320000  14953200  24.320000\n",
       "2018-01-08  24.780001  23.879999  24.370001  24.590000  17831300  24.590000"
      ]
     },
     "execution_count": 8,
     "metadata": {},
     "output_type": "execute_result"
    }
   ],
   "source": [
    "#Check head and tail of your data\n",
    "TWTR_data.head()"
   ]
  },
  {
   "cell_type": "code",
   "execution_count": 9,
   "metadata": {},
   "outputs": [
    {
     "data": {
      "text/html": [
       "<div>\n",
       "<style scoped>\n",
       "    .dataframe tbody tr th:only-of-type {\n",
       "        vertical-align: middle;\n",
       "    }\n",
       "\n",
       "    .dataframe tbody tr th {\n",
       "        vertical-align: top;\n",
       "    }\n",
       "\n",
       "    .dataframe thead th {\n",
       "        text-align: right;\n",
       "    }\n",
       "</style>\n",
       "<table border=\"1\" class=\"dataframe\">\n",
       "  <thead>\n",
       "    <tr style=\"text-align: right;\">\n",
       "      <th></th>\n",
       "      <th>High</th>\n",
       "      <th>Low</th>\n",
       "      <th>Open</th>\n",
       "      <th>Close</th>\n",
       "      <th>Volume</th>\n",
       "      <th>Adj Close</th>\n",
       "    </tr>\n",
       "    <tr>\n",
       "      <th>Date</th>\n",
       "      <th></th>\n",
       "      <th></th>\n",
       "      <th></th>\n",
       "      <th></th>\n",
       "      <th></th>\n",
       "      <th></th>\n",
       "    </tr>\n",
       "  </thead>\n",
       "  <tbody>\n",
       "    <tr>\n",
       "      <td>2020-05-26</td>\n",
       "      <td>34.270000</td>\n",
       "      <td>33.360001</td>\n",
       "      <td>33.599998</td>\n",
       "      <td>34.009998</td>\n",
       "      <td>20489300</td>\n",
       "      <td>34.009998</td>\n",
       "    </tr>\n",
       "    <tr>\n",
       "      <td>2020-05-27</td>\n",
       "      <td>34.000000</td>\n",
       "      <td>32.240002</td>\n",
       "      <td>33.630001</td>\n",
       "      <td>33.070000</td>\n",
       "      <td>24550900</td>\n",
       "      <td>33.070000</td>\n",
       "    </tr>\n",
       "    <tr>\n",
       "      <td>2020-05-28</td>\n",
       "      <td>32.680000</td>\n",
       "      <td>31.320000</td>\n",
       "      <td>31.500000</td>\n",
       "      <td>31.600000</td>\n",
       "      <td>37254900</td>\n",
       "      <td>31.600000</td>\n",
       "    </tr>\n",
       "    <tr>\n",
       "      <td>2020-05-29</td>\n",
       "      <td>31.610001</td>\n",
       "      <td>30.290001</td>\n",
       "      <td>31.559999</td>\n",
       "      <td>30.969999</td>\n",
       "      <td>39427700</td>\n",
       "      <td>30.969999</td>\n",
       "    </tr>\n",
       "    <tr>\n",
       "      <td>2020-06-01</td>\n",
       "      <td>32.099998</td>\n",
       "      <td>30.840000</td>\n",
       "      <td>31.059999</td>\n",
       "      <td>31.889999</td>\n",
       "      <td>14583600</td>\n",
       "      <td>31.889999</td>\n",
       "    </tr>\n",
       "  </tbody>\n",
       "</table>\n",
       "</div>"
      ],
      "text/plain": [
       "                 High        Low       Open      Close    Volume  Adj Close\n",
       "Date                                                                       \n",
       "2020-05-26  34.270000  33.360001  33.599998  34.009998  20489300  34.009998\n",
       "2020-05-27  34.000000  32.240002  33.630001  33.070000  24550900  33.070000\n",
       "2020-05-28  32.680000  31.320000  31.500000  31.600000  37254900  31.600000\n",
       "2020-05-29  31.610001  30.290001  31.559999  30.969999  39427700  30.969999\n",
       "2020-06-01  32.099998  30.840000  31.059999  31.889999  14583600  31.889999"
      ]
     },
     "execution_count": 9,
     "metadata": {},
     "output_type": "execute_result"
    }
   ],
   "source": [
    "#Tail data\n",
    "TWTR_data.tail()"
   ]
  },
  {
   "cell_type": "markdown",
   "metadata": {},
   "source": [
    "#### Store dataframe into a CSV File"
   ]
  },
  {
   "cell_type": "code",
   "execution_count": 9,
   "metadata": {},
   "outputs": [],
   "source": [
    "#Twitter data into a CSV File\n",
    "TWTR_data.to_csv('TWTR_data.csv')\n",
    "#Twitter data into a CSV File\n",
    "NFLX_data.to_csv('NFLX_data.csv')\n",
    "#Twitter data into a CSV File\n",
    "SNAP_data.to_csv('SNAP_data.csv')\n",
    "#Twitter data into a CSV File\n",
    "UBER_data.to_csv('UBER_data.csv')"
   ]
  }
 ],
 "metadata": {
  "kernelspec": {
   "display_name": "Python 3 (ipykernel)",
   "language": "python",
   "name": "python3"
  },
  "language_info": {
   "codemirror_mode": {
    "name": "ipython",
    "version": 3
   },
   "file_extension": ".py",
   "mimetype": "text/x-python",
   "name": "python",
   "nbconvert_exporter": "python",
   "pygments_lexer": "ipython3",
   "version": "3.9.6"
  }
 },
 "nbformat": 4,
 "nbformat_minor": 2
}
