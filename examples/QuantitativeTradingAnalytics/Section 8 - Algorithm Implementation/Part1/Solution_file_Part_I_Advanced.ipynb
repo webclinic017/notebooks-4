{
 "cells": [
  {
   "cell_type": "markdown",
   "metadata": {},
   "source": [
    "# Quantitative Trading Analytics"
   ]
  },
  {
   "cell_type": "markdown",
   "metadata": {},
   "source": [
    "Technology has become an asset in finance: financial institutions are now evolving to technology companies rather than only staying occupied with just the financial aspect: besides the fact that technology brings about innovation the speeds and can help to gain a competitive advantage, the rate and frequency of financial transactions, together with the large data volumes, makes that financial institutions’ attention for technology has increased over the years and that technology has indeed become the main enabler in finance."
   ]
  },
  {
   "cell_type": "markdown",
   "metadata": {},
   "source": [
    "<img src=\"JupyterNotebook - Question.png\">"
   ]
  },
  {
   "cell_type": "markdown",
   "metadata": {},
   "source": [
    "<div class=\"alert alert-block alert-info\" style=\"margin-top: 20px\">\n",
    "    <p>\n",
    "        Estimated time needed: <strong>90 min</strong>\n",
    "    </p>\n",
    "</div>\n",
    "\n",
    "<hr>"
   ]
  },
  {
   "cell_type": "markdown",
   "metadata": {},
   "source": [
    "May the pips be with you !"
   ]
  },
  {
   "cell_type": "markdown",
   "metadata": {},
   "source": [
    "# Import Raw Packages"
   ]
  },
  {
   "cell_type": "code",
   "execution_count": 2,
   "metadata": {},
   "outputs": [],
   "source": [
    "#Import Pandas, Numpy and PlotLy for Data visualization.\n"
   ]
  },
  {
   "cell_type": "markdown",
   "metadata": {},
   "source": [
    "# I. Import Data"
   ]
  },
  {
   "cell_type": "markdown",
   "metadata": {},
   "source": [
    "<p><span style='font-family: \"Trebuchet MS\", Helvetica, sans-serif; font-size: 17px;'>In this first part, the target will be to <strong>import data</strong> of the <strong>following shares</strong> :</span></p>\n",
    "<table style=\"width: 48%; margin-right: calc(52%);\">\n",
    "    <tbody>\n",
    "        <tr>\n",
    "            <td style=\"width: 49.026%; background-color: rgb(255, 255, 255);\">\n",
    "                <div style=\"text-align: left;\"><strong><span style='font-family: \"Trebuchet MS\", Helvetica, sans-serif; font-size: 19px;'>Share name</span></strong></div>\n",
    "            </td>\n",
    "            <td style=\"width: 50.6493%; text-align: center; background-color: rgb(255, 255, 255);\">\n",
    "                <div style=\"text-align: left;\"><span style=\"font-size: 19px;\"><span style=\"font-family: 'Trebuchet MS', Helvetica, sans-serif;\"><strong>Ticker</strong></span></span></div>\n",
    "            </td>\n",
    "        </tr>\n",
    "        <tr>\n",
    "            <td style=\"width: 49.026%; background-color: rgb(255, 255, 255);\">\n",
    "                <div style=\"text-align: left;\"><span style=\"font-size: 19px;\"><span style=\"font-family: 'Trebuchet MS', Helvetica, sans-serif;\">Twitter</span></span></div>\n",
    "            </td>\n",
    "            <td style=\"width: 50.6493%; text-align: center; background-color: rgb(255, 255, 255);\">\n",
    "                <div style=\"text-align: left;\"><span style=\"font-size: 19px;\"><span style=\"font-family: 'Trebuchet MS', Helvetica, sans-serif;\">\n",
    "                            <meta charset=\"utf-8\"><span style=\"color: rgba(0, 0, 0, 0.62); font-style: normal; font-variant-ligatures: normal; font-variant-caps: normal; font-weight: 400; letter-spacing: normal; orphans: 2; text-align: left; text-indent: 0px; text-transform: none; white-space: nowrap; widows: 2; word-spacing: 0px; -webkit-text-stroke-width: 0px; background-color: rgb(255, 255, 255); text-decoration-style: initial; text-decoration-color: initial; float: none; display: inline !important;\">TWTR</span><br></span></span></div>\n",
    "            </td>\n",
    "        </tr>\n",
    "        <tr>\n",
    "            <td style=\"width: 49.026%; background-color: rgb(255, 255, 255);\">\n",
    "                <div style=\"text-align: left;\"><span style=\"font-size: 19px;\"><span style=\"font-family: 'Trebuchet MS', Helvetica, sans-serif;\">Netflix</span></span></div>\n",
    "            </td>\n",
    "            <td style=\"width: 50.6493%; text-align: center; background-color: rgb(255, 255, 255);\">\n",
    "                <div style=\"text-align: left;\"><span style=\"font-size: 19px;\"><span style=\"font-family: 'Trebuchet MS', Helvetica, sans-serif;\">\n",
    "                            <meta charset=\"utf-8\"><span style=\"color: rgba(0, 0, 0, 0.62); font-family: arial, sans-serif; font-style: normal; font-variant-ligatures: normal; font-variant-caps: normal; font-weight: 400; letter-spacing: normal; orphans: 2; text-align: left; text-indent: 0px; text-transform: none; white-space: nowrap; widows: 2; word-spacing: 0px; -webkit-text-stroke-width: 0px; background-color: rgb(255, 255, 255); text-decoration-style: initial; text-decoration-color: initial; float: none; display: inline !important;\">NFLX</span><br></span></span></div>\n",
    "            </td>\n",
    "        </tr>\n",
    "        <tr>\n",
    "            <td style=\"width: 49.026%; background-color: rgb(255, 255, 255);\">\n",
    "                <div style=\"text-align: left;\"><span style=\"font-size: 19px;\"><span style=\"font-family: 'Trebuchet MS', Helvetica, sans-serif;\">Snapchat</span></span></div>\n",
    "            </td>\n",
    "            <td style=\"width: 50.6493%; text-align: center; background-color: rgb(255, 255, 255);\">\n",
    "                <div style=\"text-align: left;\"><span style=\"font-size: 19px;\">\n",
    "                        <meta charset=\"utf-8\"><span style=\"color: rgba(0, 0, 0, 0.62); font-family: arial, sans-serif; font-style: normal; font-variant-ligatures: normal; font-variant-caps: normal; font-weight: 400; letter-spacing: normal; orphans: 2; text-align: left; text-indent: 0px; text-transform: none; white-space: nowrap; widows: 2; word-spacing: 0px; -webkit-text-stroke-width: 0px; background-color: rgb(255, 255, 255); text-decoration-style: initial; text-decoration-color: initial; float: none; display: inline !important;\">SNAP</span></span></div>\n",
    "            </td>\n",
    "        </tr>\n",
    "        <tr>\n",
    "            <td style=\"width: 49.026%; background-color: rgb(255, 255, 255);\">\n",
    "                <div style=\"text-align: left;\"><span style=\"font-size: 19px;\"><span style=\"font-family: 'Trebuchet MS', Helvetica, sans-serif;\">Uber</span></span></div>\n",
    "            </td>\n",
    "            <td style=\"width: 50.6493%; text-align: center; background-color: rgb(255, 255, 255);\">\n",
    "                <div style=\"text-align: left;\"><span style=\"font-size: 19px;\">\n",
    "                        <meta charset=\"utf-8\"><span style=\"color: rgba(0, 0, 0, 0.62); font-family: arial, sans-serif; font-style: normal; font-variant-ligatures: normal; font-variant-caps: normal; font-weight: 400; letter-spacing: normal; orphans: 2; text-align: left; text-indent: 0px; text-transform: none; white-space: nowrap; widows: 2; word-spacing: 0px; -webkit-text-stroke-width: 0px; background-color: rgb(255, 255, 255); text-decoration-style: initial; text-decoration-color: initial; float: none; display: inline !important;\">UBER</span></span></div>\n",
    "            </td>\n",
    "        </tr>\n",
    "    </tbody>\n",
    "</table>\n",
    "<p>\n",
    "    <meta charset=\"utf-8\"><span style='color: rgb(0, 0, 0); font-family: \"Trebuchet MS\", Helvetica, sans-serif; font-size: medium; font-style: normal; font-variant-ligatures: normal; font-variant-caps: normal; font-weight: 400; letter-spacing: normal; orphans: 2; text-align: start; text-indent: 0px; text-transform: none; white-space: normal; widows: 2; word-spacing: 0px; -webkit-text-stroke-width: 0px; text-decoration-style: initial; text-decoration-color: initial; display: inline !important; float: none;'>Two challenges will be given to you.&nbsp;</span></p>\n",
    "<p><span style='color: rgb(0, 0, 0); font-family: \"Trebuchet MS\", Helvetica, sans-serif; font-size: medium; font-style: normal; font-variant-ligatures: normal; font-variant-caps: normal; font-weight: 400; letter-spacing: normal; orphans: 2; text-align: start; text-indent: 0px; text-transform: none; white-space: normal; widows: 2; word-spacing: 0px; -webkit-text-stroke-width: 0px; text-decoration-style: initial; text-decoration-color: initial; display: inline !important; float: none;'>The first one one will be the advanced path flag with an &quot;A. &quot; and the second one will be the beginner one flagged by &quot;B. &quot;.</span></p>\n",
    "<p><span style='color: rgb(0, 0, 0); font-family: \"Trebuchet MS\", Helvetica, sans-serif; font-size: medium; font-style: normal; font-variant-ligatures: normal; font-variant-caps: normal; font-weight: 400; letter-spacing: normal; orphans: 2; text-align: start; text-indent: 0px; text-transform: none; white-space: normal; widows: 2; word-spacing: 0px; -webkit-text-stroke-width: 0px; text-decoration-style: initial; text-decoration-color: initial; display: inline !important; float: none;'>I wish you to enjoy this challenge !&nbsp;</span></p>"
   ]
  },
  {
   "cell_type": "markdown",
   "metadata": {},
   "source": [
    "### API and DateTime package"
   ]
  },
  {
   "cell_type": "code",
   "execution_count": 3,
   "metadata": {},
   "outputs": [],
   "source": [
    "#Import the right API library in order to import data from Yahoo finance. \n",
    "#Furthermore don't forget datetime package to get the dates in the right format !!\n",
    "\n",
    "#PDR package\n",
    "\n",
    "\n",
    "#Datetime package\n"
   ]
  },
  {
   "cell_type": "code",
   "execution_count": 4,
   "metadata": {},
   "outputs": [],
   "source": [
    "#Define start and end date\n"
   ]
  },
  {
   "cell_type": "markdown",
   "metadata": {},
   "source": [
    "### A. Import Data (Advance level task)"
   ]
  },
  {
   "cell_type": "markdown",
   "metadata": {},
   "source": [
    "Create a while loop in order to import for each ticker in the following format : \"ticker\"_data"
   ]
  },
  {
   "cell_type": "code",
   "execution_count": 5,
   "metadata": {},
   "outputs": [
    {
     "name": "stdout",
     "output_type": "stream",
     "text": [
      "TWTR is uploading data\n",
      "NFLX is uploading data\n",
      "SNAP is uploading data\n",
      "UBER is uploading data\n"
     ]
    }
   ],
   "source": [
    "#Set your tickers\n",
    "\n",
    "   \n",
    "# Getting length of list \n",
    "\n",
    "   \n",
    "# Iterating using while loop \n"
   ]
  },
  {
   "cell_type": "code",
   "execution_count": 5,
   "metadata": {},
   "outputs": [
    {
     "data": {
      "text/html": [
       "<div>\n",
       "<style scoped>\n",
       "    .dataframe tbody tr th:only-of-type {\n",
       "        vertical-align: middle;\n",
       "    }\n",
       "\n",
       "    .dataframe tbody tr th {\n",
       "        vertical-align: top;\n",
       "    }\n",
       "\n",
       "    .dataframe thead th {\n",
       "        text-align: right;\n",
       "    }\n",
       "</style>\n",
       "<table border=\"1\" class=\"dataframe\">\n",
       "  <thead>\n",
       "    <tr style=\"text-align: right;\">\n",
       "      <th></th>\n",
       "      <th>High</th>\n",
       "      <th>Low</th>\n",
       "      <th>Open</th>\n",
       "      <th>Close</th>\n",
       "      <th>Volume</th>\n",
       "      <th>Adj Close</th>\n",
       "    </tr>\n",
       "    <tr>\n",
       "      <th>Date</th>\n",
       "      <th></th>\n",
       "      <th></th>\n",
       "      <th></th>\n",
       "      <th></th>\n",
       "      <th></th>\n",
       "      <th></th>\n",
       "    </tr>\n",
       "  </thead>\n",
       "  <tbody>\n",
       "    <tr>\n",
       "      <td>2018-01-02</td>\n",
       "      <td>15.010000</td>\n",
       "      <td>14.610000</td>\n",
       "      <td>14.690000</td>\n",
       "      <td>14.950000</td>\n",
       "      <td>9971000</td>\n",
       "      <td>14.950000</td>\n",
       "    </tr>\n",
       "    <tr>\n",
       "      <td>2018-01-03</td>\n",
       "      <td>15.380000</td>\n",
       "      <td>14.720000</td>\n",
       "      <td>15.000000</td>\n",
       "      <td>15.310000</td>\n",
       "      <td>15921400</td>\n",
       "      <td>15.310000</td>\n",
       "    </tr>\n",
       "    <tr>\n",
       "      <td>2018-01-04</td>\n",
       "      <td>15.000000</td>\n",
       "      <td>14.274000</td>\n",
       "      <td>14.760000</td>\n",
       "      <td>14.590000</td>\n",
       "      <td>27232000</td>\n",
       "      <td>14.590000</td>\n",
       "    </tr>\n",
       "    <tr>\n",
       "      <td>2018-01-05</td>\n",
       "      <td>14.750000</td>\n",
       "      <td>14.380000</td>\n",
       "      <td>14.510000</td>\n",
       "      <td>14.500000</td>\n",
       "      <td>18828000</td>\n",
       "      <td>14.500000</td>\n",
       "    </tr>\n",
       "    <tr>\n",
       "      <td>2018-01-08</td>\n",
       "      <td>14.280000</td>\n",
       "      <td>13.580000</td>\n",
       "      <td>14.210000</td>\n",
       "      <td>14.060000</td>\n",
       "      <td>27033600</td>\n",
       "      <td>14.060000</td>\n",
       "    </tr>\n",
       "    <tr>\n",
       "      <td>...</td>\n",
       "      <td>...</td>\n",
       "      <td>...</td>\n",
       "      <td>...</td>\n",
       "      <td>...</td>\n",
       "      <td>...</td>\n",
       "      <td>...</td>\n",
       "    </tr>\n",
       "    <tr>\n",
       "      <td>2020-04-27</td>\n",
       "      <td>17.000000</td>\n",
       "      <td>16.101999</td>\n",
       "      <td>16.250000</td>\n",
       "      <td>16.910000</td>\n",
       "      <td>43135600</td>\n",
       "      <td>16.910000</td>\n",
       "    </tr>\n",
       "    <tr>\n",
       "      <td>2020-04-28</td>\n",
       "      <td>17.260000</td>\n",
       "      <td>16.150000</td>\n",
       "      <td>17.030001</td>\n",
       "      <td>16.410000</td>\n",
       "      <td>28909900</td>\n",
       "      <td>16.410000</td>\n",
       "    </tr>\n",
       "    <tr>\n",
       "      <td>2020-04-29</td>\n",
       "      <td>17.870001</td>\n",
       "      <td>16.600000</td>\n",
       "      <td>16.799999</td>\n",
       "      <td>17.830000</td>\n",
       "      <td>41753600</td>\n",
       "      <td>17.830000</td>\n",
       "    </tr>\n",
       "    <tr>\n",
       "      <td>2020-04-30</td>\n",
       "      <td>17.990000</td>\n",
       "      <td>17.230000</td>\n",
       "      <td>17.500000</td>\n",
       "      <td>17.610001</td>\n",
       "      <td>30811400</td>\n",
       "      <td>17.610001</td>\n",
       "    </tr>\n",
       "    <tr>\n",
       "      <td>2020-05-01</td>\n",
       "      <td>17.299999</td>\n",
       "      <td>16.530001</td>\n",
       "      <td>17.000000</td>\n",
       "      <td>16.790001</td>\n",
       "      <td>27128400</td>\n",
       "      <td>16.790001</td>\n",
       "    </tr>\n",
       "  </tbody>\n",
       "</table>\n",
       "<p>587 rows × 6 columns</p>\n",
       "</div>"
      ],
      "text/plain": [
       "                 High        Low       Open      Close    Volume  Adj Close\n",
       "Date                                                                       \n",
       "2018-01-02  15.010000  14.610000  14.690000  14.950000   9971000  14.950000\n",
       "2018-01-03  15.380000  14.720000  15.000000  15.310000  15921400  15.310000\n",
       "2018-01-04  15.000000  14.274000  14.760000  14.590000  27232000  14.590000\n",
       "2018-01-05  14.750000  14.380000  14.510000  14.500000  18828000  14.500000\n",
       "2018-01-08  14.280000  13.580000  14.210000  14.060000  27033600  14.060000\n",
       "...               ...        ...        ...        ...       ...        ...\n",
       "2020-04-27  17.000000  16.101999  16.250000  16.910000  43135600  16.910000\n",
       "2020-04-28  17.260000  16.150000  17.030001  16.410000  28909900  16.410000\n",
       "2020-04-29  17.870001  16.600000  16.799999  17.830000  41753600  17.830000\n",
       "2020-04-30  17.990000  17.230000  17.500000  17.610001  30811400  17.610001\n",
       "2020-05-01  17.299999  16.530001  17.000000  16.790001  27128400  16.790001\n",
       "\n",
       "[587 rows x 6 columns]"
      ]
     },
     "execution_count": 5,
     "metadata": {},
     "output_type": "execute_result"
    }
   ],
   "source": [
    "#Check SNAP data import\n"
   ]
  },
  {
   "cell_type": "markdown",
   "metadata": {},
   "source": [
    "  "
   ]
  }
 ],
 "metadata": {
  "kernelspec": {
   "display_name": "Python 3",
   "language": "python",
   "name": "python3"
  },
  "language_info": {
   "codemirror_mode": {
    "name": "ipython",
    "version": 3
   },
   "file_extension": ".py",
   "mimetype": "text/x-python",
   "name": "python",
   "nbconvert_exporter": "python",
   "pygments_lexer": "ipython3",
   "version": "3.7.4"
  }
 },
 "nbformat": 4,
 "nbformat_minor": 2
}
