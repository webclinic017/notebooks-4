{
 "cells": [
  {
   "cell_type": "markdown",
   "id": "9134b852",
   "metadata": {},
   "source": [
    "# pandas Series\n",
    "\n",
    "a series holds one dimensional data\n",
    "a single columns or one to many rows\n",
    "\n",
    "a pandas Series adds loads of extra functionality"
   ]
  },
  {
   "cell_type": "code",
   "execution_count": 1,
   "id": "bc7c43bf",
   "metadata": {},
   "outputs": [],
   "source": [
    "# import pandas\n",
    "import pandas as pd"
   ]
  },
  {
   "cell_type": "code",
   "execution_count": null,
   "id": "b1d313d9",
   "metadata": {},
   "outputs": [],
   "source": []
  }
 ],
 "metadata": {
  "kernelspec": {
   "display_name": "Python 3 (ipykernel)",
   "language": "python",
   "name": "python3"
  },
  "language_info": {
   "codemirror_mode": {
    "name": "ipython",
    "version": 3
   },
   "file_extension": ".py",
   "mimetype": "text/x-python",
   "name": "python",
   "nbconvert_exporter": "python",
   "pygments_lexer": "ipython3",
   "version": "3.9.6"
  }
 },
 "nbformat": 4,
 "nbformat_minor": 5
}
