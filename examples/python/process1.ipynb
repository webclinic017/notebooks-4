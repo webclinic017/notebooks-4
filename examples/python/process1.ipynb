{
 "cells": [
  {
   "cell_type": "markdown",
   "id": "6cb41db5",
   "metadata": {},
   "source": [
    "- [x] [Multiprocessing: Run Code in Parallel Using the Multiprocessing Module](https://youtu.be/fKl2JW_qrso)"
   ]
  },
  {
   "cell_type": "code",
   "execution_count": 3,
   "id": "07e58bd7",
   "metadata": {},
   "outputs": [],
   "source": [
    "import concurrent.futures as cf\n",
    "import time\n",
    "\n",
    "start = time.perf_counter()\n",
    "\n",
    "def do_something(duration):\n",
    "    print(f'sleeping {duration} second(s)...')\n",
    "    time.sleep(duration)\n",
    "    return 'waking up...' \n",
    "\n",
    "if __name__ == '__main__':\n",
    "    with cf.ProcessPoolExecutor(max_workers=100) as executor:\n",
    "        results = [executor.submit(do_something, 1) for _ in range(100)]\n",
    "\n",
    "        for f in cf.as_completed(results):\n",
    "            print(f.result())\n",
    "\n",
    "    finish = time.perf_counter()\n",
    "\n",
    "    print(f'Finished in {round(finish-start, 2)} second(s)')\n",
    "\n",
    "# 100 tasks\n",
    "# Finished in 4.78 second(s)"
   ]
  }
 ],
 "metadata": {
  "kernelspec": {
   "display_name": "Python 3 (ipykernel)",
   "language": "python",
   "name": "python3"
  },
  "language_info": {
   "codemirror_mode": {
    "name": "ipython",
    "version": 3
   },
   "file_extension": ".py",
   "mimetype": "text/x-python",
   "name": "python",
   "nbconvert_exporter": "python",
   "pygments_lexer": "ipython3",
   "version": "3.10.5"
  }
 },
 "nbformat": 4,
 "nbformat_minor": 5
}
